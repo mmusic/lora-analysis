{
 "cells": [
  {
   "cell_type": "code",
   "execution_count": 1,
   "metadata": {},
   "outputs": [
    {
     "data": {
      "text/plain": [
       "1655040125.0"
      ]
     },
     "execution_count": 1,
     "metadata": {},
     "output_type": "execute_result"
    }
   ],
   "source": [
    "import pandas as pd\n",
    "import json\n",
    "import csv\n",
    "import matplotlib.pyplot as plt\n",
    "import numpy as np\n",
    "import time\n",
    "import datetime\n",
    "\n",
    "def date2ts(date):\n",
    "    return datetime.datetime.timestamp(datetime.datetime.strptime(date, \"%Y/%m/%d %H:%M:%S\"))\n",
    "\n",
    "def ts2date(timestamp):\n",
    "    return(datetime.datetime.fromtimestamp(timestamp).strftime('%Y-%m-%d %H:%M:%S'))\n",
    "\n",
    "date2ts('2022/06/12 21:22:5')"
   ]
  },
  {
   "cell_type": "code",
   "execution_count": 2,
   "metadata": {},
   "outputs": [],
   "source": [
    "router_info = {\n",
    "    '20080029c69feeb': {'lat': 22.3482, 'lon': 114.1955, 'name': 'SPK  五芳街'},\n",
    "    '20180029c69feeb': {'lat': 22.3482, 'lon': 114.1955, 'name': 'SPK  五芳街'},\n",
    "    '20080029c1e38f3': {'lat': 22.33859328048492, 'lon': 114.19964039078596, 'name': 'SPK'},\n",
    "    '20080029c5e3677': {'lat': 22.34135627968526, 'lon': 114.20243539614061, 'name': 'Diamond Hill'},\n",
    "    # '20180029c4574b6': {'lat': -1, 'lon': -1, 'name': '畢架山'},\n",
    "    # '20080029c4574b6': {'lat': -1, 'lon': -1, 'name': '畢架山'},\n",
    "    # '20080029c1ea300': {'lat': -1, 'lon': -1, 'name': 'Kowloon Bay'},\n",
    "    '2005813d31be7ec': {'lat': 22.336689562679826, 'lon': 114.19884682603602, 'name': 'SPK   八達街'},\n",
    "    '20180029c7b7b60': {'lat': 22.325141812687036, 'lon': 114.21082667902576, 'name': 'Kowloon Bay(Metro Center 2)'},\n",
    "    '20080029c69ffc2': {'lat': -22.314991786929966, 'lon': 114.1830702585825, 'name': '何文田邨適文樓'},\n",
    "}\n",
    "\n",
    "gt_distribution = {\n",
    "    'diamond_200m': ['2022/07/06 10:58:00', '2022/07/06 11:06:00'],\n",
    "    'dayoujie_500m': ['2022/07/06 11:24:00', '2022/07/06 11:33:00'],\n",
    "    'huangdaxian_1000m': ['2022/07/19 10:40:00', '2022/07/19 10:50:00'],\n",
    "    'fuhaodongfang_1500m': ['2022/07/06 17:10:00', '2022/07/06 17:22:00'],\n",
    "    'songhuangtai_2000m': ['2022/07/06 18:16:00', '2022/07/06 18:30:00'],\n",
    "}\n",
    "\n",
    "gt_point = {\n",
    "    'dayoujie': '2022/07/06 11:48:00',\n",
    "    'caihong': '2022/07/06 11:56:00',\n",
    "    'caiyun': '2022/07/06 11:58:00',\n",
    "    'banyuelou': '2022/07/06 11:59:00',\n",
    "    'shunlixiaofang': '2022/07/06 12:02:00',\n",
    "    'goodhope': '2022/07/06 12:04:00',\n",
    "    'andachengdao': '2022/07/06 12:06:00',\n",
    "    'caiyihuangyuan': '2022/07/06 17:07:00',\n",
    "    'yugangwan': '2022/07/06 17:08:00',\n",
    "}"
   ]
  },
  {
   "cell_type": "code",
   "execution_count": 13,
   "metadata": {},
   "outputs": [
    {
     "data": {
      "text/html": [
       "<div>\n",
       "<style scoped>\n",
       "    .dataframe tbody tr th:only-of-type {\n",
       "        vertical-align: middle;\n",
       "    }\n",
       "\n",
       "    .dataframe tbody tr th {\n",
       "        vertical-align: top;\n",
       "    }\n",
       "\n",
       "    .dataframe thead th {\n",
       "        text-align: right;\n",
       "    }\n",
       "</style>\n",
       "<table border=\"1\" class=\"dataframe\">\n",
       "  <thead>\n",
       "    <tr style=\"text-align: right;\">\n",
       "      <th></th>\n",
       "      <th>tag</th>\n",
       "      <th>router</th>\n",
       "      <th>rssi</th>\n",
       "      <th>ts</th>\n",
       "    </tr>\n",
       "  </thead>\n",
       "  <tbody>\n",
       "    <tr>\n",
       "      <th>0</th>\n",
       "      <td>AC-1F-09-FF-FE-06-7C-36</td>\n",
       "      <td>0x20180029c69feeb</td>\n",
       "      <td>-105</td>\n",
       "      <td>1.657076e+09</td>\n",
       "    </tr>\n",
       "    <tr>\n",
       "      <th>1</th>\n",
       "      <td>AC-1F-09-FF-FE-06-7C-36</td>\n",
       "      <td>0x20080029c5e3677</td>\n",
       "      <td>-113</td>\n",
       "      <td>1.657076e+09</td>\n",
       "    </tr>\n",
       "    <tr>\n",
       "      <th>2</th>\n",
       "      <td>AC-1F-09-FF-FE-06-7C-36</td>\n",
       "      <td>0x20080029c5e3677</td>\n",
       "      <td>-109</td>\n",
       "      <td>1.657076e+09</td>\n",
       "    </tr>\n",
       "    <tr>\n",
       "      <th>3</th>\n",
       "      <td>AC-1F-09-FF-FE-06-7C-36</td>\n",
       "      <td>0x20180029c69feeb</td>\n",
       "      <td>-108</td>\n",
       "      <td>1.657076e+09</td>\n",
       "    </tr>\n",
       "    <tr>\n",
       "      <th>4</th>\n",
       "      <td>AC-1F-09-FF-FE-06-7C-36</td>\n",
       "      <td>0x20080029c5e3677</td>\n",
       "      <td>-114</td>\n",
       "      <td>1.657076e+09</td>\n",
       "    </tr>\n",
       "    <tr>\n",
       "      <th>...</th>\n",
       "      <td>...</td>\n",
       "      <td>...</td>\n",
       "      <td>...</td>\n",
       "      <td>...</td>\n",
       "    </tr>\n",
       "    <tr>\n",
       "      <th>3311</th>\n",
       "      <td>AC-1F-09-FF-FE-06-7C-36</td>\n",
       "      <td>0x20080029c4574b6</td>\n",
       "      <td>-93</td>\n",
       "      <td>1.657103e+09</td>\n",
       "    </tr>\n",
       "    <tr>\n",
       "      <th>3312</th>\n",
       "      <td>AC-1F-09-FF-FE-06-7C-36</td>\n",
       "      <td>0x20080029c522174</td>\n",
       "      <td>-114</td>\n",
       "      <td>1.657103e+09</td>\n",
       "    </tr>\n",
       "    <tr>\n",
       "      <th>3313</th>\n",
       "      <td>AC-1F-09-FF-FE-06-7C-36</td>\n",
       "      <td>0x20080029c69ffc2</td>\n",
       "      <td>-107</td>\n",
       "      <td>1.657103e+09</td>\n",
       "    </tr>\n",
       "    <tr>\n",
       "      <th>3314</th>\n",
       "      <td>AC-1F-09-FF-FE-06-7C-36</td>\n",
       "      <td>0x20080029c1ea2ff</td>\n",
       "      <td>-103</td>\n",
       "      <td>1.657103e+09</td>\n",
       "    </tr>\n",
       "    <tr>\n",
       "      <th>3315</th>\n",
       "      <td>AC-1F-09-FF-FE-06-7C-36</td>\n",
       "      <td>0x20080029c1ea300</td>\n",
       "      <td>-107</td>\n",
       "      <td>1.657103e+09</td>\n",
       "    </tr>\n",
       "  </tbody>\n",
       "</table>\n",
       "<p>3316 rows × 4 columns</p>\n",
       "</div>"
      ],
      "text/plain": [
       "                          tag             router  rssi            ts\n",
       "0     AC-1F-09-FF-FE-06-7C-36  0x20180029c69feeb  -105  1.657076e+09\n",
       "1     AC-1F-09-FF-FE-06-7C-36  0x20080029c5e3677  -113  1.657076e+09\n",
       "2     AC-1F-09-FF-FE-06-7C-36  0x20080029c5e3677  -109  1.657076e+09\n",
       "3     AC-1F-09-FF-FE-06-7C-36  0x20180029c69feeb  -108  1.657076e+09\n",
       "4     AC-1F-09-FF-FE-06-7C-36  0x20080029c5e3677  -114  1.657076e+09\n",
       "...                       ...                ...   ...           ...\n",
       "3311  AC-1F-09-FF-FE-06-7C-36  0x20080029c4574b6   -93  1.657103e+09\n",
       "3312  AC-1F-09-FF-FE-06-7C-36  0x20080029c522174  -114  1.657103e+09\n",
       "3313  AC-1F-09-FF-FE-06-7C-36  0x20080029c69ffc2  -107  1.657103e+09\n",
       "3314  AC-1F-09-FF-FE-06-7C-36  0x20080029c1ea2ff  -103  1.657103e+09\n",
       "3315  AC-1F-09-FF-FE-06-7C-36  0x20080029c1ea300  -107  1.657103e+09\n",
       "\n",
       "[3316 rows x 4 columns]"
      ]
     },
     "execution_count": 13,
     "metadata": {},
     "output_type": "execute_result"
    }
   ],
   "source": [
    "data = pd.read_csv('survey/pixel/2022-07-06_lora.csv')\n",
    "# data = pd.read_csv('survey/pixel/2022-07-19_lora.csv')\n",
    "data.columns = ['tag', 'router', 'rssi', 'ts']\n",
    "data"
   ]
  },
  {
   "cell_type": "code",
   "execution_count": 14,
   "metadata": {},
   "outputs": [
    {
     "name": "stdout",
     "output_type": "stream",
     "text": [
      "20180029c69feeb 838 -103.8 5.55 {'lat': 22.3482, 'lon': 114.1955, 'name': 'SPK  五芳街'}\n",
      "20080029c5e3677 424 -111.12 4.36 {'lat': 22.34135627968526, 'lon': 114.20243539614061, 'name': 'Diamond Hill'}\n",
      "20180029c4574b6 187 -104.8 3.84\n",
      "20080029c69feeb 414 -85.11 4.06 {'lat': 22.3482, 'lon': 114.1955, 'name': 'SPK  五芳街'}\n",
      "20080029c4574b6 218 -109.86 5.6\n",
      "20080029c7b7b60 84 -101.98 7.86\n",
      "20080029c1ea300 237 -99.59 9.17\n",
      "20180029c7b7b60 45 -98.13 5.87 {'lat': 22.325141812687036, 'lon': 114.21082667902576, 'name': 'Kowloon Bay(Metro Center 2)'}\n"
     ]
    }
   ],
   "source": [
    "songhuangtai = data[(data.ts > date2ts('2022/07/06 10:58:00'))&(data.ts < date2ts('2022/07/06 11:06:00'))]\n",
    "routers = songhuangtai['router'].drop_duplicates(keep='first').tolist()\n",
    "\n",
    "for r in routers:\n",
    "    r_data = data[(data.router == r)]\n",
    "    size = len(r_data)\n",
    "    rssi_avg = round(np.mean(r_data.rssi),2)\n",
    "    rssi_std = round(np.std(r_data.rssi), 2)\n",
    "    if r[2:] in router_info.keys():\n",
    "        print(r[2:], size, rssi_avg, rssi_std, router_info[r[2:]])\n",
    "    else:\n",
    "        print(r[2:], size, rssi_avg, rssi_std)"
   ]
  },
  {
   "cell_type": "code",
   "execution_count": 7,
   "metadata": {},
   "outputs": [
    {
     "name": "stdout",
     "output_type": "stream",
     "text": [
      "diamond_200m (264, 4) 480.0\n",
      "dayoujie_500m (329, 4) 540.0\n",
      "fuhaodongfang_1500m (357, 4) 720.0\n",
      "songhuangtai_2000m (206, 4) 840.0\n"
     ]
    }
   ],
   "source": [
    "\n",
    "def check(raw_data):\n",
    "    # raw_data = data[(data.ts > date2ts('2022/07/06 18:16:00'))&(data.ts < date2ts('2022/07/06 18:16:00'))]\n",
    "    routers = raw_data['router'].drop_duplicates(keep='first').tolist()\n",
    "\n",
    "    for r in routers:\n",
    "        r_data = data[(data.router == r)]\n",
    "        size = len(r_data)\n",
    "        rssi_avg = round(np.mean(r_data.rssi),2)\n",
    "        rssi_std = round(np.std(r_data.rssi), 2)\n",
    "        if r[2:] in router_info.keys():\n",
    "            print(r[2:], size, rssi_avg, rssi_std, router_info[r[2:]])\n",
    "        else:\n",
    "            print(r[2:], size, rssi_avg, rssi_std)\n",
    "\n",
    "\n",
    "for item in gt_distribution:\n",
    "    s_date = gt_distribution[item][0]\n",
    "    e_date = gt_distribution[item][1]\n",
    "    duration = date2ts(e_date) - date2ts(s_date)\n",
    "    raw_data = data[(data.ts > date2ts(s_date))&(data.ts < date2ts(e_date))]\n",
    "    print(item, raw_data.shape, duration)"
   ]
  },
  {
   "cell_type": "code",
   "execution_count": null,
   "metadata": {},
   "outputs": [],
   "source": []
  }
 ],
 "metadata": {
  "kernelspec": {
   "display_name": "Python 3.10.5 64-bit",
   "language": "python",
   "name": "python3"
  },
  "language_info": {
   "codemirror_mode": {
    "name": "ipython",
    "version": 3
   },
   "file_extension": ".py",
   "mimetype": "text/x-python",
   "name": "python",
   "nbconvert_exporter": "python",
   "pygments_lexer": "ipython3",
   "version": "3.10.5"
  },
  "orig_nbformat": 4,
  "vscode": {
   "interpreter": {
    "hash": "f05d3925f5ac633971e5cb5099df553b044eb2be733f5a06bf08579954646617"
   }
  }
 },
 "nbformat": 4,
 "nbformat_minor": 2
}
