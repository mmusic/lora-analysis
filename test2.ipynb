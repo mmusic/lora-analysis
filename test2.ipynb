{
 "cells": [
  {
   "cell_type": "code",
   "execution_count": 1,
   "metadata": {},
   "outputs": [
    {
     "data": {
      "text/plain": [
       "1655040125.0"
      ]
     },
     "execution_count": 1,
     "metadata": {},
     "output_type": "execute_result"
    }
   ],
   "source": [
    "import pandas as pd\n",
    "import json\n",
    "import csv\n",
    "import matplotlib.pyplot as plt\n",
    "import numpy as np\n",
    "import time\n",
    "import datetime\n",
    "\n",
    "def date2ts(date):\n",
    "    return datetime.datetime.timestamp(datetime.datetime.strptime(date, \"%Y/%m/%d %H:%M:%S\"))\n",
    "\n",
    "def ts2date(timestamp):\n",
    "    return(datetime.datetime.fromtimestamp(timestamp).strftime('%Y-%m-%d %H:%M:%S'))\n",
    "\n",
    "date2ts('2022/06/12 21:22:5')"
   ]
  },
  {
   "cell_type": "code",
   "execution_count": 16,
   "metadata": {},
   "outputs": [],
   "source": [
    "router_info = {\n",
    "    '20080029c69feeb': {'lat': 22.3482, 'lon': 114.1955, 'name': '五芳街 沙田坳'},\n",
    "    '20180029c69feeb': {'lat': 22.3482, 'lon': 114.1955, 'name': '五芳街 沙田坳'},\n",
    "    '20080029c1e38f3': {'lat': 22.33859, 'lon': 114.19964, 'name': '五芳街'},\n",
    "    '20080029c5e3677': {'lat': 22.34135, 'lon': 114.20243, 'name': 'Diamond Hill'},\n",
    "    # '20180029c4574b6': {'lat': -1, 'lon': -1, 'name': '畢架山'},\n",
    "    # '20080029c4574b6': {'lat': -1, 'lon': -1, 'name': '畢架山'},\n",
    "    # '20080029c1ea300': {'lat': -1, 'lon': -1, 'name': 'Kowloon Bay'},\n",
    "    '2005813d31be7ec': {'lat': 22.33668, 'lon': 114.19884, 'name': '八達街'},\n",
    "    '20180029c7b7b60': {'lat': 22.32514, 'lon': 114.21082, 'name': 'Kowloon Bay(Metro Center 2)'},\n",
    "    '20080029c69ffc2': {'lat': -22.31499, 'lon': 114.18307, 'name': '何文田邨適文樓'},\n",
    "}\n",
    "\n",
    "gt_distribution = {\n",
    "    'diamond_200m': {'date': ['2022/07/06 10:58:00', '2022/07/06 11:08:00'], 'coor': [22.3412944950869, 114.20073744876093]},\n",
    "    'dayoujie_500m': {'date': ['2022/07/06 11:24:00', '2022/07/06 11:34:00'], 'coor': [22.338186087878373, 114.19885639530463]},\n",
    "    'huangdaxian_1000m': {'date': ['2022/07/19 10:40:00', '2022/07/19 10:50:00'], 'coor': [22.341840882178104, 114.19449022248844]},\n",
    "    'fuhaodongfang_1500m': {'date': ['2022/07/06 17:10:00', '2022/07/06 17:20:00'], 'coor': [22.328988088616413, 114.1925017465669]},\n",
    "    'songhuangtai_2000m': {'date': ['2022/07/06 18:16:00', '2022/07/06 18:26:00'], 'coor': [22.325466338854763, 114.19031932195354]},\n",
    "}\n",
    "\n",
    "gt_point = {\n",
    "    'dayoujie': {'date': '2022/07/06 11:48:00','coor': [22.338173421484996, 114.20168251817528]},\n",
    "    'caihong': {'date': '2022/07/06 11:56:00','coor': [22.336047918539958, 114.20768103936794]},\n",
    "    'caiyun': {'date': '2022/07/06 11:58:00','coor': [22.333539410864162, 114.21244505687329]},\n",
    "    'banyuelou': {'date': '2022/07/06 11:59:00','coor': [22.332714071623705, 114.21623798449995]},\n",
    "    'shunlixiaofang': {'date': '2022/07/06 12:02:00','coor': [22.331534585833744, 114.22241512074318]},\n",
    "    'goodhope': {'date': '2022/07/06 12:04:00','coor': [22.33385730934927, 114.22234763216436]},\n",
    "    'andachengdao': {'date': '2022/07/06 12:06:00','coor': [22.33471046097287, 114.23013126761987]},\n",
    "    'caiyihuangyuan': {'date': '2022/07/06 17:07:00','coor': [22.33492846990551, 114.20209446741167]},\n",
    "    'yugangwan': {'date': '2022/07/06 17:08:00','coor': [22.332432475603923, 114.1971317522924]},\n",
    "}"
   ]
  },
  {
   "cell_type": "code",
   "execution_count": 17,
   "metadata": {},
   "outputs": [],
   "source": [
    "data = pd.read_csv('survey/pixel/2022-07-06_lora.csv')\n",
    "data.columns = ['tag', 'router', 'rssi', 'ts']"
   ]
  },
  {
   "cell_type": "code",
   "execution_count": 18,
   "metadata": {},
   "outputs": [
    {
     "name": "stdout",
     "output_type": "stream",
     "text": [
      "20180029c69feeb 1076 -103.83 5.94 {'lat': 22.3482, 'lon': 114.1955, 'name': '五芳街 沙田坳'}\n",
      "20080029c5e3677 483 -111.58 4.32 {'lat': 22.34135, 'lon': 114.20243, 'name': 'Diamond Hill'}\n",
      "20080029c69feeb 647 -83.65 6.26 {'lat': 22.3482, 'lon': 114.1955, 'name': '五芳街 沙田坳'}\n",
      "20180029c7b7b60 80 -98.68 5.31 {'lat': 22.32514, 'lon': 114.21082, 'name': 'Kowloon Bay(Metro Center 2)'}\n"
     ]
    }
   ],
   "source": [
    "songhuangtai = data[(data.ts > date2ts('2022/07/06 10:58:00'))&(data.ts < date2ts('2022/07/06 11:06:00'))]\n",
    "\n",
    "routers = songhuangtai['router'].drop_duplicates(keep='first').tolist()\n",
    "\n",
    "for r in routers:\n",
    "    r_data = data[(data.router == r)]\n",
    "    size = len(r_data)\n",
    "    rssi_avg = round(np.mean(r_data.rssi),2)\n",
    "    rssi_std = round(np.std(r_data.rssi), 2)\n",
    "    if r[2:] in router_info.keys():\n",
    "        print(r[2:], size, rssi_avg, rssi_std, router_info[r[2:]])\n",
    "    # else:\n",
    "    #     print(r[2:], size, rssi_avg, rssi_std)"
   ]
  },
  {
   "cell_type": "code",
   "execution_count": 19,
   "metadata": {},
   "outputs": [
    {
     "name": "stdout",
     "output_type": "stream",
     "text": [
      "diamond_200m (335, 4) 600.0\n",
      "----- 20180029c69feeb 126 -105.41 4.5 {'lat': 22.3482, 'lon': 114.1955, 'name': '五芳街 沙田坳'}\n",
      "----- 20080029c5e3677 130 -111.22 3.46 {'lat': 22.34135, 'lon': 114.20243, 'name': 'Diamond Hill'}\n",
      "----- 20080029c69feeb 7 -86.43 3.11 {'lat': 22.3482, 'lon': 114.1955, 'name': '五芳街 沙田坳'}\n",
      "----- 20180029c7b7b60 1 -97.0 0.0 {'lat': 22.32514, 'lon': 114.21082, 'name': 'Kowloon Bay(Metro Center 2)'}\n",
      "dayoujie_500m (371, 4) 600.0\n",
      "----- 20080029c69feeb 89 -83.82 4.52 {'lat': 22.3482, 'lon': 114.1955, 'name': '五芳街 沙田坳'}\n",
      "----- 20180029c69feeb 127 -103.01 4.73 {'lat': 22.3482, 'lon': 114.1955, 'name': '五芳街 沙田坳'}\n",
      "----- 20080029c1e38f3 102 -110.01 9.31 {'lat': 22.33859, 'lon': 114.19964, 'name': '五芳街'}\n",
      "----- 20080029c5e3677 32 -112.81 1.93 {'lat': 22.34135, 'lon': 114.20243, 'name': 'Diamond Hill'}\n",
      "----- 2005813d31be7ec 3 -111.0 1.63 {'lat': 22.33668, 'lon': 114.19884, 'name': '八達街'}\n",
      "huangdaxian_1000m (364, 4) 600.0\n",
      "----- 20080029c5e3677 13 -115.69 2.33 {'lat': 22.34135, 'lon': 114.20243, 'name': 'Diamond Hill'}\n",
      "----- 20180029c69feeb 157 -101.54 6.82 {'lat': 22.3482, 'lon': 114.1955, 'name': '五芳街 沙田坳'}\n",
      "----- 20080029c69feeb 180 -78.76 7.01 {'lat': 22.3482, 'lon': 114.1955, 'name': '五芳街 沙田坳'}\n",
      "fuhaodongfang_1500m (301, 4) 600.0\n",
      "----- 20080029c69ffc2 42 -101.5 4.53 {'lat': -22.31499, 'lon': 114.18307, 'name': '何文田邨適文樓'}\n",
      "----- 20180029c69feeb 35 -111.94 2.3 {'lat': 22.3482, 'lon': 114.1955, 'name': '五芳街 沙田坳'}\n",
      "----- 20180029c7b7b60 5 -103.0 1.67 {'lat': 22.32514, 'lon': 114.21082, 'name': 'Kowloon Bay(Metro Center 2)'}\n",
      "----- 20080029c69feeb 2 -93.5 0.5 {'lat': 22.3482, 'lon': 114.1955, 'name': '五芳街 沙田坳'}\n",
      "songhuangtai_2000m (156, 4) 600.0\n",
      "----- 20080029c69ffc2 27 -100.07 5.04 {'lat': -22.31499, 'lon': 114.18307, 'name': '何文田邨適文樓'}\n",
      "----- 20180029c7b7b60 2 -100.0 3.0 {'lat': 22.32514, 'lon': 114.21082, 'name': 'Kowloon Bay(Metro Center 2)'}\n"
     ]
    }
   ],
   "source": [
    "\n",
    "def check(raw_data):\n",
    "    # raw_data = data[(data.ts > date2ts('2022/07/06 18:16:00'))&(data.ts < date2ts('2022/07/06 18:16:00'))]\n",
    "    routers = raw_data['router'].drop_duplicates(keep='first').tolist()\n",
    "\n",
    "    for r in routers:\n",
    "        r_data = data[(data.router == r)]\n",
    "        size = len(r_data)\n",
    "        rssi_avg = round(np.mean(r_data.rssi),2)\n",
    "        rssi_std = round(np.std(r_data.rssi), 2)\n",
    "        if r[2:] in router_info.keys():\n",
    "            print(r[2:], size, rssi_avg, rssi_std, router_info[r[2:]])\n",
    "        else:\n",
    "            print(r[2:], size, rssi_avg, rssi_std)\n",
    "\n",
    "\n",
    "for item in gt_distribution:\n",
    "    s_date = gt_distribution[item]['date'][0]\n",
    "    e_date = gt_distribution[item]['date'][1]\n",
    "    # print(s_date, e_date)\n",
    "    duration = date2ts(e_date) - date2ts(s_date)\n",
    "    raw_data = data[(data.ts > date2ts(s_date))&(data.ts < date2ts(e_date))]\n",
    "    print(item, raw_data.shape, duration)\n",
    "\n",
    "    routers = raw_data['router'].drop_duplicates(keep='first').tolist()\n",
    "\n",
    "    for r in routers:\n",
    "        r_data = raw_data[(raw_data.router == r)]\n",
    "        size = len(r_data)\n",
    "        rssi_avg = round(np.mean(r_data.rssi),2)\n",
    "        rssi_std = round(np.std(r_data.rssi), 2)\n",
    "        if r[2:] in router_info.keys():\n",
    "            print('-----', r[2:], size, rssi_avg, rssi_std, router_info[r[2:]])"
   ]
  },
  {
   "cell_type": "code",
   "execution_count": null,
   "metadata": {},
   "outputs": [],
   "source": []
  },
  {
   "cell_type": "code",
   "execution_count": null,
   "metadata": {},
   "outputs": [],
   "source": []
  }
 ],
 "metadata": {
  "kernelspec": {
   "display_name": "Python 3.10.5 64-bit",
   "language": "python",
   "name": "python3"
  },
  "language_info": {
   "codemirror_mode": {
    "name": "ipython",
    "version": 3
   },
   "file_extension": ".py",
   "mimetype": "text/x-python",
   "name": "python",
   "nbconvert_exporter": "python",
   "pygments_lexer": "ipython3",
   "version": "3.10.5"
  },
  "orig_nbformat": 4,
  "vscode": {
   "interpreter": {
    "hash": "f05d3925f5ac633971e5cb5099df553b044eb2be733f5a06bf08579954646617"
   }
  }
 },
 "nbformat": 4,
 "nbformat_minor": 2
}
